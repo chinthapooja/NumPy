{
  "nbformat": 4,
  "nbformat_minor": 0,
  "metadata": {
    "colab": {
      "provenance": []
    },
    "kernelspec": {
      "name": "python3",
      "display_name": "Python 3"
    },
    "language_info": {
      "name": "python"
    }
  },
  "cells": [
    {
      "cell_type": "markdown",
      "source": [
        "#Saving and sharing your NumPy arrays"
      ],
      "metadata": {
        "id": "wSyDNbf9QXTt"
      }
    },
    {
      "cell_type": "code",
      "execution_count": null,
      "metadata": {
        "id": "6k0ZEl6SQULk"
      },
      "outputs": [],
      "source": [
        "import numpy as np"
      ]
    },
    {
      "cell_type": "code",
      "source": [
        "x = np.arange(10)\n",
        "y = x ** 2\n",
        "print(x)\n",
        "print(y)"
      ],
      "metadata": {
        "id": "o1U00pHzQkIt"
      },
      "execution_count": null,
      "outputs": []
    },
    {
      "cell_type": "markdown",
      "source": [
        "save them to a file as zipped arrays using savez"
      ],
      "metadata": {
        "id": "6BM6YGzHQ1lF"
      }
    },
    {
      "cell_type": "markdown",
      "source": [
        "x_axis = x: this option is assigning the name x_axis to the variable x\n",
        "\n",
        "y_axis = y: this option is assigning the name y_axis to the variable y"
      ],
      "metadata": {
        "id": "k0XcASemQ6DW"
      }
    },
    {
      "cell_type": "markdown",
      "source": [
        "`numpy.savez(file, *args, **kwds)`\n",
        "Save several arrays into a single file in uncompressed .npz format"
      ],
      "metadata": {
        "id": "oVonH87VRGPQ"
      }
    },
    {
      "cell_type": "markdown",
      "source": [
        "* The .npz file format is a zipped archive of files named after the variables they contain.\n",
        "* The archive is not compressed and each file in the archive contains one variable in .npy format. For a description of the .npy format, see numpy.lib.format.\n",
        "* When opening the saved .npz file with load a NpzFile object is returned. This is a dictionary-like object which can be queried for its list of arrays (with the .files attribute), and for the arrays themselves.\n"
      ],
      "metadata": {
        "id": "zWnmI3YNRWz9"
      }
    },
    {
      "cell_type": "code",
      "source": [
        "np.savez(\"x_y-squared.npz\", x_axis=x, y_axis=y)"
      ],
      "metadata": {
        "id": "uymqRXg2QtSB"
      },
      "execution_count": null,
      "outputs": []
    },
    {
      "cell_type": "code",
      "source": [
        "np.load(\"x_y-squared.npz\")"
      ],
      "metadata": {
        "id": "MXNzZ3txQ7t4"
      },
      "execution_count": null,
      "outputs": []
    },
    {
      "cell_type": "code",
      "source": [
        "np.load(\"x_y-squared.npz\").files"
      ],
      "metadata": {
        "id": "EPxiSbhfSAuq"
      },
      "execution_count": null,
      "outputs": []
    },
    {
      "cell_type": "code",
      "source": [
        "np.load(\"x_y-squared.npz\").files[0]"
      ],
      "metadata": {
        "id": "K5Qcl_RsSH7h"
      },
      "execution_count": null,
      "outputs": []
    },
    {
      "cell_type": "code",
      "source": [
        "np.load(\"x_y-squared.npz\")['x_axis']"
      ],
      "metadata": {
        "id": "_hhLHFmXSJf-"
      },
      "execution_count": null,
      "outputs": []
    },
    {
      "cell_type": "markdown",
      "source": [
        "**Remove the saved arrays and load them back with NumPy’s**"
      ],
      "metadata": {
        "id": "rzSFqDS5Sk69"
      }
    },
    {
      "cell_type": "markdown",
      "source": [
        "The NPY format is a native binary format. You cannot read the numbers in a standard text editor or spreadsheet."
      ],
      "metadata": {
        "id": "RcVytxi7Svvs"
      }
    },
    {
      "cell_type": "code",
      "source": [
        "del x,y"
      ],
      "metadata": {
        "id": "HYBhvLzNSVFA"
      },
      "execution_count": null,
      "outputs": []
    },
    {
      "cell_type": "code",
      "source": [
        "%whos"
      ],
      "metadata": {
        "id": "UfgAVjeUS3EW"
      },
      "execution_count": null,
      "outputs": []
    },
    {
      "cell_type": "code",
      "source": [
        "load_xy = np.load(\"x_y-squared.npz\")\n",
        "\n",
        "print(load_xy.files)"
      ],
      "metadata": {
        "id": "4FjWdNsWS5oD"
      },
      "execution_count": null,
      "outputs": []
    },
    {
      "cell_type": "code",
      "source": [
        "whos"
      ],
      "metadata": {
        "id": "c397yabKS69V"
      },
      "execution_count": null,
      "outputs": []
    },
    {
      "cell_type": "code",
      "source": [
        "load_xy['x_axis']"
      ],
      "metadata": {
        "id": "sijURIk_S88-"
      },
      "execution_count": null,
      "outputs": []
    },
    {
      "cell_type": "code",
      "source": [
        "#Reassign the NpzFile arrays to x and y\n",
        "x = load_xy[\"x_axis\"]\n",
        "y = load_xy[\"y_axis\"]\n",
        "print(x)\n",
        "print(y)"
      ],
      "metadata": {
        "id": "Mlwk5ZlvTCqI"
      },
      "execution_count": null,
      "outputs": []
    },
    {
      "cell_type": "markdown",
      "source": [
        "#Saving to human-readable csv"
      ],
      "metadata": {
        "id": "X5nu7sh9TO6V"
      }
    },
    {
      "cell_type": "markdown",
      "source": [
        "the savetxt to save x and y in a comma separated value file, x_y-squared.csv. The resulting csv is composed of ASCII characters. You can load the file back into NumPy or read it with other programs."
      ],
      "metadata": {
        "id": "3YytL6QiTcIj"
      }
    },
    {
      "cell_type": "markdown",
      "source": [
        "np.block: this function appends arrays together into a 2D array\n",
        "\n",
        "np.newaxis: this function forces the 1D array into a 2D column vector with 10 rows and 1 column.\n"
      ],
      "metadata": {
        "id": "hAJZz0ATThfM"
      }
    },
    {
      "cell_type": "code",
      "source": [
        "array_out = np.block([x[:, np.newaxis], y[:, np.newaxis]])\n",
        "print(\"the output array has shape \", array_out.shape, \" with values:\")\n",
        "print(array_out)"
      ],
      "metadata": {
        "id": "MyJ02HrJTUwk"
      },
      "execution_count": null,
      "outputs": []
    },
    {
      "cell_type": "markdown",
      "source": [
        "**Save the data to csv file using savetxt**"
      ],
      "metadata": {
        "id": "Yql1iluoT3Cx"
      }
    },
    {
      "cell_type": "markdown",
      "source": [
        "use savetxt with a three options to make your file easier to read:\n",
        "\n",
        "X = array_out: this option tells savetxt to save your 2D array, array_out, to the file x_y-squared.csv\n",
        "\n",
        "header = 'x, y': this option writes a header before any data that labels the columns of the csv\n",
        "\n",
        "delimiter = ',': this option tells savetxt to place a comma between each column in the file"
      ],
      "metadata": {
        "id": "Oi-SVAxrT61H"
      }
    },
    {
      "cell_type": "code",
      "source": [
        "np.savetxt(\"x_y-squared.csv\", X=array_out, header=\"x, y\", delimiter=\",\")"
      ],
      "metadata": {
        "id": "SZ6TQ9rZTsB2"
      },
      "execution_count": null,
      "outputs": []
    },
    {
      "cell_type": "markdown",
      "source": [
        "**Our arrays as a csv file**"
      ],
      "metadata": {
        "id": "I6fI9p-dUa8g"
      }
    },
    {
      "cell_type": "markdown",
      "source": [
        "NumPy uses # to ignore headings when using loadtxt. If you’re using loadtxt with other csv files, you can skip header rows with skiprows = <number_of_header_lines>.\n",
        "\n",
        "The integers were written in scientific notation. You can specify the format of the text using the savetxt option, fmt = , but it will still be written with ASCII characters. In general, you cannot preserve the type of ASCII numbers as float or int."
      ],
      "metadata": {
        "id": "JdFItjm0Ucnp"
      }
    },
    {
      "cell_type": "code",
      "source": [
        "# Now, delete x and y again and assign them to your columns in x-y_squared.csv\n",
        "del x, y"
      ],
      "metadata": {
        "id": "4x6I6NxrT9n3"
      },
      "execution_count": null,
      "outputs": []
    },
    {
      "cell_type": "code",
      "source": [
        "load_xy = np.loadtxt(\"x_y-squared.csv\", delimiter=\",\")\n",
        "load_xy.shape"
      ],
      "metadata": {
        "id": "LfnsQyIXUrAM"
      },
      "execution_count": null,
      "outputs": []
    },
    {
      "cell_type": "code",
      "source": [
        "load_xy"
      ],
      "metadata": {
        "id": "4dD_zJzKUyHw"
      },
      "execution_count": null,
      "outputs": []
    },
    {
      "cell_type": "code",
      "source": [
        "x = load_xy[:, 0]\n",
        "y = load_xy[:, 1]\n",
        "print(x)\n",
        "print(y)"
      ],
      "metadata": {
        "id": "qFPQDURKUtur"
      },
      "execution_count": null,
      "outputs": []
    },
    {
      "cell_type": "markdown",
      "source": [
        "When you saved the arrays to the csv file, you did not preserve the int type. When loading the arrays back into your workspace the default process will be to load the csv file as a 2D floating point array e.g. load_xy.dtype == 'float64' and load_xy.shape == (10, 2)."
      ],
      "metadata": {
        "id": "QtvwyjuOU6Hd"
      }
    },
    {
      "cell_type": "code",
      "source": [],
      "metadata": {
        "id": "wdkRIZauU0fK"
      },
      "execution_count": null,
      "outputs": []
    }
  ]
}